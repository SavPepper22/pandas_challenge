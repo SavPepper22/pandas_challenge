{
 "cells": [
  {
   "cell_type": "code",
   "execution_count": null,
   "id": "80044bc0-0432-4b75-b28b-873d1e111303",
   "metadata": {},
   "outputs": [],
   "source": []
  },
  {
   "cell_type": "code",
   "execution_count": 1,
   "id": "2743ae17-885c-477b-858e-d27f0c6875e2",
   "metadata": {
    "tags": []
   },
   "outputs": [
    {
     "data": {
      "text/html": [
       "<div>\n",
       "<style scoped>\n",
       "    .dataframe tbody tr th:only-of-type {\n",
       "        vertical-align: middle;\n",
       "    }\n",
       "\n",
       "    .dataframe tbody tr th {\n",
       "        vertical-align: top;\n",
       "    }\n",
       "\n",
       "    .dataframe thead th {\n",
       "        text-align: right;\n",
       "    }\n",
       "</style>\n",
       "<table border=\"1\" class=\"dataframe\">\n",
       "  <thead>\n",
       "    <tr style=\"text-align: right;\">\n",
       "      <th></th>\n",
       "      <th>Student ID</th>\n",
       "      <th>student_name</th>\n",
       "      <th>gender</th>\n",
       "      <th>grade</th>\n",
       "      <th>school_name</th>\n",
       "      <th>reading_score</th>\n",
       "      <th>math_score</th>\n",
       "      <th>School ID</th>\n",
       "      <th>type</th>\n",
       "      <th>size</th>\n",
       "      <th>budget</th>\n",
       "    </tr>\n",
       "  </thead>\n",
       "  <tbody>\n",
       "    <tr>\n",
       "      <th>0</th>\n",
       "      <td>0</td>\n",
       "      <td>Paul Bradley</td>\n",
       "      <td>M</td>\n",
       "      <td>9th</td>\n",
       "      <td>Huang High School</td>\n",
       "      <td>66</td>\n",
       "      <td>79</td>\n",
       "      <td>0</td>\n",
       "      <td>District</td>\n",
       "      <td>2917</td>\n",
       "      <td>1910635</td>\n",
       "    </tr>\n",
       "    <tr>\n",
       "      <th>1</th>\n",
       "      <td>1</td>\n",
       "      <td>Victor Smith</td>\n",
       "      <td>M</td>\n",
       "      <td>12th</td>\n",
       "      <td>Huang High School</td>\n",
       "      <td>94</td>\n",
       "      <td>61</td>\n",
       "      <td>0</td>\n",
       "      <td>District</td>\n",
       "      <td>2917</td>\n",
       "      <td>1910635</td>\n",
       "    </tr>\n",
       "    <tr>\n",
       "      <th>2</th>\n",
       "      <td>2</td>\n",
       "      <td>Kevin Rodriguez</td>\n",
       "      <td>M</td>\n",
       "      <td>12th</td>\n",
       "      <td>Huang High School</td>\n",
       "      <td>90</td>\n",
       "      <td>60</td>\n",
       "      <td>0</td>\n",
       "      <td>District</td>\n",
       "      <td>2917</td>\n",
       "      <td>1910635</td>\n",
       "    </tr>\n",
       "    <tr>\n",
       "      <th>3</th>\n",
       "      <td>3</td>\n",
       "      <td>Dr. Richard Scott</td>\n",
       "      <td>M</td>\n",
       "      <td>12th</td>\n",
       "      <td>Huang High School</td>\n",
       "      <td>67</td>\n",
       "      <td>58</td>\n",
       "      <td>0</td>\n",
       "      <td>District</td>\n",
       "      <td>2917</td>\n",
       "      <td>1910635</td>\n",
       "    </tr>\n",
       "    <tr>\n",
       "      <th>4</th>\n",
       "      <td>4</td>\n",
       "      <td>Bonnie Ray</td>\n",
       "      <td>F</td>\n",
       "      <td>9th</td>\n",
       "      <td>Huang High School</td>\n",
       "      <td>97</td>\n",
       "      <td>84</td>\n",
       "      <td>0</td>\n",
       "      <td>District</td>\n",
       "      <td>2917</td>\n",
       "      <td>1910635</td>\n",
       "    </tr>\n",
       "  </tbody>\n",
       "</table>\n",
       "</div>"
      ],
      "text/plain": [
       "   Student ID       student_name gender grade        school_name  \\\n",
       "0           0       Paul Bradley      M   9th  Huang High School   \n",
       "1           1       Victor Smith      M  12th  Huang High School   \n",
       "2           2    Kevin Rodriguez      M  12th  Huang High School   \n",
       "3           3  Dr. Richard Scott      M  12th  Huang High School   \n",
       "4           4         Bonnie Ray      F   9th  Huang High School   \n",
       "\n",
       "   reading_score  math_score  School ID      type  size   budget  \n",
       "0             66          79          0  District  2917  1910635  \n",
       "1             94          61          0  District  2917  1910635  \n",
       "2             90          60          0  District  2917  1910635  \n",
       "3             67          58          0  District  2917  1910635  \n",
       "4             97          84          0  District  2917  1910635  "
      ]
     },
     "execution_count": 1,
     "metadata": {},
     "output_type": "execute_result"
    }
   ],
   "source": [
    "# Dependencies and Setup\n",
    "import pandas as pd\n",
    "from pathlib import Path\n",
    "\n",
    "# File to Load (Remember to Change These)\n",
    "school_data_to_load = Path(\"Resources/schools_complete.csv\")\n",
    "student_data_to_load = Path(\"Resources/students_complete.csv\")\n",
    "\n",
    "# Read School and Student Data File and store into Pandas DataFrames\n",
    "school_data = pd.read_csv(school_data_to_load)\n",
    "student_data = pd.read_csv(student_data_to_load)\n",
    "\n",
    "# Combine the data into a single dataset using merge left join.  \n",
    "school_data_complete = pd.merge(student_data, school_data, how=\"left\", on=[\"school_name\", \"school_name\"])\n",
    "school_data_complete.head()"
   ]
  },
  {
   "cell_type": "code",
   "execution_count": 2,
   "id": "49527fd2-101a-4a5b-9974-700a2b4fb947",
   "metadata": {},
   "outputs": [],
   "source": [
    "# District Summary\n",
    "#Perform the necessary calculations and list the following:\n",
    "#Total number of unique schools\n",
    "#total students\n",
    "#Total budget\n",
    "#Average math score\n",
    "#Average reading score\n",
    "# % passing math (the % of students who passed math)\n",
    "# % passing reading (the % of students who passed reading)\n",
    "# % overall passing (The % of students who passed both math and reading)\n",
    "#Then create a high-level snapshot of the district's ket metrics in a data frame."
   ]
  },
  {
   "cell_type": "code",
   "execution_count": 3,
   "id": "2ffd7ce5-6623-459e-ae44-34cd70ce0f9a",
   "metadata": {},
   "outputs": [
    {
     "data": {
      "text/plain": [
       "15"
      ]
     },
     "execution_count": 3,
     "metadata": {},
     "output_type": "execute_result"
    }
   ],
   "source": [
    "# Calculate the total number of unique schools, I am going to use the length of an object, as it can return the number of items in a list.\n",
    "unique_total_school_count = len(school_data_complete[\"School ID\"].unique())\n",
    "unique_total_school_count\n",
    "                                                     "
   ]
  },
  {
   "cell_type": "code",
   "execution_count": 4,
   "id": "be91dcf9-37ce-4559-9c8a-a0741d082e08",
   "metadata": {},
   "outputs": [
    {
     "data": {
      "text/plain": [
       "39170"
      ]
     },
     "execution_count": 4,
     "metadata": {},
     "output_type": "execute_result"
    }
   ],
   "source": [
    "# Calculate the total number of students\n",
    "total_number_student = len(school_data_complete[\"Student ID\"].unique())\n",
    "total_number_student"
   ]
  },
  {
   "cell_type": "code",
   "execution_count": 5,
   "id": "265e6532-2965-48a3-8a25-b5d419b844c7",
   "metadata": {},
   "outputs": [],
   "source": [
    "# Calculate the total budget\n",
    "total_budget = school_data_complete[\"budget\"].astype(int)\n",
    "total_budget = school_data_complete[\"budget\"].unique()\n",
    "\n",
    "total = sum(total_budget)"
   ]
  },
  {
   "cell_type": "code",
   "execution_count": 6,
   "id": "0e41a7ec-562d-4fbf-ba0a-d3fbbb041617",
   "metadata": {},
   "outputs": [
    {
     "data": {
      "text/plain": [
       "78.98537145774827"
      ]
     },
     "execution_count": 6,
     "metadata": {},
     "output_type": "execute_result"
    }
   ],
   "source": [
    "# Calculate the average math score\n",
    "averagescore_math = student_data[\"math_score\"].mean()\n",
    "averagescore_math"
   ]
  },
  {
   "cell_type": "code",
   "execution_count": 7,
   "id": "3ca5e1d2-9491-4d0b-9259-97476dbd557a",
   "metadata": {},
   "outputs": [
    {
     "data": {
      "text/plain": [
       "81.87784018381414"
      ]
     },
     "execution_count": 7,
     "metadata": {},
     "output_type": "execute_result"
    }
   ],
   "source": [
    "# Calculate the average reading score\n",
    "averagescore_reading = student_data[\"reading_score\"].mean()\n",
    "averagescore_reading"
   ]
  },
  {
   "cell_type": "code",
   "execution_count": 8,
   "id": "d99ea9e9-c06b-4393-9a18-f71624b3a308",
   "metadata": {},
   "outputs": [
    {
     "data": {
      "text/plain": [
       "74.9808526933878"
      ]
     },
     "execution_count": 8,
     "metadata": {},
     "output_type": "execute_result"
    }
   ],
   "source": [
    "# Use the following to calculate the percentage of students who passed math (math scores greather than or equal to 70)\n",
    "# Make a varaible that gives us the passing math scores (>=70) then multiple that by 100 to give us %\n",
    "passing_math = student_data[student_data[\"math_score\"] >= 70].count() [\"Student ID\"]\n",
    "passing_math\n",
    "percentpassing_math = (passing_math/total_number_student)*100\n",
    "percentpassing_math                           "
   ]
  },
  {
   "cell_type": "code",
   "execution_count": 9,
   "id": "d40d9550-b38b-47e8-8222-98b32e1d0802",
   "metadata": {},
   "outputs": [
    {
     "data": {
      "text/plain": [
       "85.80546336482001"
      ]
     },
     "execution_count": 9,
     "metadata": {},
     "output_type": "execute_result"
    }
   ],
   "source": [
    "# Calculate the percentage of students who passed reading (reading scores greater than or equal to 70)\n",
    "# Same thing you did for the math scores\n",
    "passing_read = student_data[student_data[\"reading_score\"] >= 70].count() [\"Student ID\"]\n",
    "passing_read\n",
    "percentpassing_read = (passing_read/total_number_student)*100\n",
    "percentpassing_read  "
   ]
  },
  {
   "cell_type": "code",
   "execution_count": 10,
   "id": "4984c98c-e2a8-4b26-bd8f-0d8d364750ff",
   "metadata": {},
   "outputs": [
    {
     "data": {
      "text/plain": [
       "65.17232575950983"
      ]
     },
     "execution_count": 10,
     "metadata": {},
     "output_type": "execute_result"
    }
   ],
   "source": [
    "# Now it's time to create a percentage for the students who passed both math AND reading!\n",
    "#Good for them such hardworking students\n",
    "#Super easy to calculate because we just add up percent passing for math and reading then divide by 2!\n",
    "overall_passing = student_data[(student_data[\"reading_score\"] >=70) & (student_data[\"math_score\"] >= 70)].count() [\"Student ID\"]\n",
    "\n",
    "overall_passing\n",
    "overall_passing_percent = (overall_passing/total_number_student)*100\n",
    "\n",
    "overall_passing_percent"
   ]
  },
  {
   "cell_type": "code",
   "execution_count": 11,
   "id": "46b1aa61-0c5a-459f-a374-0780566c88c0",
   "metadata": {},
   "outputs": [
    {
     "data": {
      "text/html": [
       "<div>\n",
       "<style scoped>\n",
       "    .dataframe tbody tr th:only-of-type {\n",
       "        vertical-align: middle;\n",
       "    }\n",
       "\n",
       "    .dataframe tbody tr th {\n",
       "        vertical-align: top;\n",
       "    }\n",
       "\n",
       "    .dataframe thead th {\n",
       "        text-align: right;\n",
       "    }\n",
       "</style>\n",
       "<table border=\"1\" class=\"dataframe\">\n",
       "  <thead>\n",
       "    <tr style=\"text-align: right;\">\n",
       "      <th></th>\n",
       "      <th>Total Unique Schools</th>\n",
       "      <th>Total Students</th>\n",
       "      <th>Total Budget</th>\n",
       "      <th>Average math score</th>\n",
       "      <th>Average reading score</th>\n",
       "      <th>Percent passing math</th>\n",
       "      <th>percent passing reading</th>\n",
       "      <th>Overall passing</th>\n",
       "    </tr>\n",
       "  </thead>\n",
       "  <tbody>\n",
       "    <tr>\n",
       "      <th>0</th>\n",
       "      <td>15</td>\n",
       "      <td>39,170</td>\n",
       "      <td>$24,649,428</td>\n",
       "      <td>79.0%</td>\n",
       "      <td>81.9%</td>\n",
       "      <td>75%</td>\n",
       "      <td>86%</td>\n",
       "      <td>65%</td>\n",
       "    </tr>\n",
       "  </tbody>\n",
       "</table>\n",
       "</div>"
      ],
      "text/plain": [
       "   Total Unique Schools Total Students Total Budget Average math score  \\\n",
       "0                    15         39,170  $24,649,428              79.0%   \n",
       "\n",
       "  Average reading score Percent passing math percent passing reading  \\\n",
       "0                 81.9%                  75%                     86%   \n",
       "\n",
       "  Overall passing  \n",
       "0             65%  "
      ]
     },
     "execution_count": 11,
     "metadata": {},
     "output_type": "execute_result"
    }
   ],
   "source": [
    "#Now we have to create a dataframe that will display our results\n",
    "District_summary_result = pd.DataFrame({\n",
    "    \"Total Unique Schools\":[unique_total_school_count],\n",
    "    \"Total Students\" : f\"{total_number_student:,}\",\n",
    "    \"Total Budget\" : f\"${total:,}\" ,\n",
    "    \"Average math score\" : f\"{averagescore_math:.1f}%\" ,\n",
    "    \"Average reading score\" : f\"{averagescore_reading:.1f}%\" ,\n",
    "    \"Percent passing math\" : f\"{percentpassing_math:.0f}%\" ,\n",
    "    \"percent passing reading\" : f\"{percentpassing_read:.0f}%\" ,\n",
    "    \"Overall passing\" : f\"{overall_passing_percent:.0f}%\"\n",
    "})\n",
    "\n",
    "District_summary_result"
   ]
  },
  {
   "cell_type": "code",
   "execution_count": 12,
   "id": "fcc1f95c-6e63-494d-bc51-15ee671b6635",
   "metadata": {},
   "outputs": [],
   "source": [
    "#School Summary\n",
    "#Perform the necessary calculations and list the following:\n",
    "#School name\n",
    "#School type\n",
    "#Total budget\n",
    "#Total Students\n",
    "#Total school budget\n",
    "#Percent student budget\n",
    "#Average math score\n",
    "#Average reading score\n",
    "# % passing math (the % of students who passed math)\n",
    "# % passing reading (the % of students who passed reading)\n",
    "# % overall passing (The % of students who passed both math and reading)\n",
    "#Once done you can make a dataframe that summarizes the key metrics of each school."
   ]
  },
  {
   "cell_type": "code",
   "execution_count": 13,
   "id": "bf20305b-0ed2-454f-9f05-e7c65a128e6a",
   "metadata": {},
   "outputs": [
    {
     "data": {
      "text/html": [
       "<div>\n",
       "<style scoped>\n",
       "    .dataframe tbody tr th:only-of-type {\n",
       "        vertical-align: middle;\n",
       "    }\n",
       "\n",
       "    .dataframe tbody tr th {\n",
       "        vertical-align: top;\n",
       "    }\n",
       "\n",
       "    .dataframe thead th {\n",
       "        text-align: right;\n",
       "    }\n",
       "</style>\n",
       "<table border=\"1\" class=\"dataframe\">\n",
       "  <thead>\n",
       "    <tr style=\"text-align: right;\">\n",
       "      <th></th>\n",
       "      <th>Student ID</th>\n",
       "      <th>student_name</th>\n",
       "      <th>gender</th>\n",
       "      <th>grade</th>\n",
       "      <th>school_name</th>\n",
       "      <th>reading_score</th>\n",
       "      <th>math_score</th>\n",
       "      <th>School ID</th>\n",
       "      <th>type</th>\n",
       "      <th>size</th>\n",
       "      <th>budget</th>\n",
       "    </tr>\n",
       "  </thead>\n",
       "  <tbody>\n",
       "    <tr>\n",
       "      <th>0</th>\n",
       "      <td>0</td>\n",
       "      <td>Paul Bradley</td>\n",
       "      <td>M</td>\n",
       "      <td>9th</td>\n",
       "      <td>Huang High School</td>\n",
       "      <td>66</td>\n",
       "      <td>79</td>\n",
       "      <td>0</td>\n",
       "      <td>District</td>\n",
       "      <td>2917</td>\n",
       "      <td>1910635</td>\n",
       "    </tr>\n",
       "    <tr>\n",
       "      <th>1</th>\n",
       "      <td>1</td>\n",
       "      <td>Victor Smith</td>\n",
       "      <td>M</td>\n",
       "      <td>12th</td>\n",
       "      <td>Huang High School</td>\n",
       "      <td>94</td>\n",
       "      <td>61</td>\n",
       "      <td>0</td>\n",
       "      <td>District</td>\n",
       "      <td>2917</td>\n",
       "      <td>1910635</td>\n",
       "    </tr>\n",
       "    <tr>\n",
       "      <th>2</th>\n",
       "      <td>2</td>\n",
       "      <td>Kevin Rodriguez</td>\n",
       "      <td>M</td>\n",
       "      <td>12th</td>\n",
       "      <td>Huang High School</td>\n",
       "      <td>90</td>\n",
       "      <td>60</td>\n",
       "      <td>0</td>\n",
       "      <td>District</td>\n",
       "      <td>2917</td>\n",
       "      <td>1910635</td>\n",
       "    </tr>\n",
       "    <tr>\n",
       "      <th>3</th>\n",
       "      <td>3</td>\n",
       "      <td>Dr. Richard Scott</td>\n",
       "      <td>M</td>\n",
       "      <td>12th</td>\n",
       "      <td>Huang High School</td>\n",
       "      <td>67</td>\n",
       "      <td>58</td>\n",
       "      <td>0</td>\n",
       "      <td>District</td>\n",
       "      <td>2917</td>\n",
       "      <td>1910635</td>\n",
       "    </tr>\n",
       "    <tr>\n",
       "      <th>4</th>\n",
       "      <td>4</td>\n",
       "      <td>Bonnie Ray</td>\n",
       "      <td>F</td>\n",
       "      <td>9th</td>\n",
       "      <td>Huang High School</td>\n",
       "      <td>97</td>\n",
       "      <td>84</td>\n",
       "      <td>0</td>\n",
       "      <td>District</td>\n",
       "      <td>2917</td>\n",
       "      <td>1910635</td>\n",
       "    </tr>\n",
       "    <tr>\n",
       "      <th>...</th>\n",
       "      <td>...</td>\n",
       "      <td>...</td>\n",
       "      <td>...</td>\n",
       "      <td>...</td>\n",
       "      <td>...</td>\n",
       "      <td>...</td>\n",
       "      <td>...</td>\n",
       "      <td>...</td>\n",
       "      <td>...</td>\n",
       "      <td>...</td>\n",
       "      <td>...</td>\n",
       "    </tr>\n",
       "    <tr>\n",
       "      <th>39165</th>\n",
       "      <td>39165</td>\n",
       "      <td>Donna Howard</td>\n",
       "      <td>F</td>\n",
       "      <td>12th</td>\n",
       "      <td>Thomas High School</td>\n",
       "      <td>99</td>\n",
       "      <td>90</td>\n",
       "      <td>14</td>\n",
       "      <td>Charter</td>\n",
       "      <td>1635</td>\n",
       "      <td>1043130</td>\n",
       "    </tr>\n",
       "    <tr>\n",
       "      <th>39166</th>\n",
       "      <td>39166</td>\n",
       "      <td>Dawn Bell</td>\n",
       "      <td>F</td>\n",
       "      <td>10th</td>\n",
       "      <td>Thomas High School</td>\n",
       "      <td>95</td>\n",
       "      <td>70</td>\n",
       "      <td>14</td>\n",
       "      <td>Charter</td>\n",
       "      <td>1635</td>\n",
       "      <td>1043130</td>\n",
       "    </tr>\n",
       "    <tr>\n",
       "      <th>39167</th>\n",
       "      <td>39167</td>\n",
       "      <td>Rebecca Tanner</td>\n",
       "      <td>F</td>\n",
       "      <td>9th</td>\n",
       "      <td>Thomas High School</td>\n",
       "      <td>73</td>\n",
       "      <td>84</td>\n",
       "      <td>14</td>\n",
       "      <td>Charter</td>\n",
       "      <td>1635</td>\n",
       "      <td>1043130</td>\n",
       "    </tr>\n",
       "    <tr>\n",
       "      <th>39168</th>\n",
       "      <td>39168</td>\n",
       "      <td>Desiree Kidd</td>\n",
       "      <td>F</td>\n",
       "      <td>10th</td>\n",
       "      <td>Thomas High School</td>\n",
       "      <td>99</td>\n",
       "      <td>90</td>\n",
       "      <td>14</td>\n",
       "      <td>Charter</td>\n",
       "      <td>1635</td>\n",
       "      <td>1043130</td>\n",
       "    </tr>\n",
       "    <tr>\n",
       "      <th>39169</th>\n",
       "      <td>39169</td>\n",
       "      <td>Carolyn Jackson</td>\n",
       "      <td>F</td>\n",
       "      <td>11th</td>\n",
       "      <td>Thomas High School</td>\n",
       "      <td>95</td>\n",
       "      <td>75</td>\n",
       "      <td>14</td>\n",
       "      <td>Charter</td>\n",
       "      <td>1635</td>\n",
       "      <td>1043130</td>\n",
       "    </tr>\n",
       "  </tbody>\n",
       "</table>\n",
       "<p>39170 rows × 11 columns</p>\n",
       "</div>"
      ],
      "text/plain": [
       "       Student ID       student_name gender grade         school_name  \\\n",
       "0               0       Paul Bradley      M   9th   Huang High School   \n",
       "1               1       Victor Smith      M  12th   Huang High School   \n",
       "2               2    Kevin Rodriguez      M  12th   Huang High School   \n",
       "3               3  Dr. Richard Scott      M  12th   Huang High School   \n",
       "4               4         Bonnie Ray      F   9th   Huang High School   \n",
       "...           ...                ...    ...   ...                 ...   \n",
       "39165       39165       Donna Howard      F  12th  Thomas High School   \n",
       "39166       39166          Dawn Bell      F  10th  Thomas High School   \n",
       "39167       39167     Rebecca Tanner      F   9th  Thomas High School   \n",
       "39168       39168       Desiree Kidd      F  10th  Thomas High School   \n",
       "39169       39169    Carolyn Jackson      F  11th  Thomas High School   \n",
       "\n",
       "       reading_score  math_score  School ID      type  size   budget  \n",
       "0                 66          79          0  District  2917  1910635  \n",
       "1                 94          61          0  District  2917  1910635  \n",
       "2                 90          60          0  District  2917  1910635  \n",
       "3                 67          58          0  District  2917  1910635  \n",
       "4                 97          84          0  District  2917  1910635  \n",
       "...              ...         ...        ...       ...   ...      ...  \n",
       "39165             99          90         14   Charter  1635  1043130  \n",
       "39166             95          70         14   Charter  1635  1043130  \n",
       "39167             73          84         14   Charter  1635  1043130  \n",
       "39168             99          90         14   Charter  1635  1043130  \n",
       "39169             95          75         14   Charter  1635  1043130  \n",
       "\n",
       "[39170 rows x 11 columns]"
      ]
     },
     "execution_count": 13,
     "metadata": {},
     "output_type": "execute_result"
    }
   ],
   "source": [
    "#read the school data so we can use the info to make calculations\n",
    "school_data_complete"
   ]
  },
  {
   "cell_type": "code",
   "execution_count": 14,
   "id": "df6a0121-cbee-4307-94a0-685957e0fdd3",
   "metadata": {},
   "outputs": [
    {
     "data": {
      "text/plain": [
       "array(['Huang High School', 'Figueroa High School', 'Shelton High School',\n",
       "       'Hernandez High School', 'Griffin High School',\n",
       "       'Wilson High School', 'Cabrera High School', 'Bailey High School',\n",
       "       'Holden High School', 'Pena High School', 'Wright High School',\n",
       "       'Rodriguez High School', 'Johnson High School', 'Ford High School',\n",
       "       'Thomas High School'], dtype=object)"
      ]
     },
     "execution_count": 14,
     "metadata": {},
     "output_type": "execute_result"
    }
   ],
   "source": [
    "#Calculate the school name\n",
    "school_name = school_data_complete['school_name'].unique()\n",
    "school_name"
   ]
  },
  {
   "cell_type": "code",
   "execution_count": 15,
   "id": "246ebe99-ad0b-49ad-b123-a3871bf03ba5",
   "metadata": {},
   "outputs": [
    {
     "data": {
      "text/plain": [
       "array(['Huang High School', 'Figueroa High School', 'Shelton High School',\n",
       "       'Hernandez High School', 'Griffin High School',\n",
       "       'Wilson High School', 'Cabrera High School', 'Bailey High School',\n",
       "       'Holden High School', 'Pena High School', 'Wright High School',\n",
       "       'Rodriguez High School', 'Johnson High School', 'Ford High School',\n",
       "       'Thomas High School'], dtype=object)"
      ]
     },
     "execution_count": 15,
     "metadata": {},
     "output_type": "execute_result"
    }
   ],
   "source": [
    "school_name = school_data_complete['school_name'].unique()\n",
    "school_name"
   ]
  },
  {
   "cell_type": "code",
   "execution_count": 16,
   "id": "379bbd90-b0d7-4865-a5f1-784b6f028ea1",
   "metadata": {},
   "outputs": [
    {
     "data": {
      "text/plain": [
       "school_name\n",
       "Huang High School     District\n",
       "Huang High School     District\n",
       "Huang High School     District\n",
       "Huang High School     District\n",
       "Huang High School     District\n",
       "                        ...   \n",
       "Thomas High School     Charter\n",
       "Thomas High School     Charter\n",
       "Thomas High School     Charter\n",
       "Thomas High School     Charter\n",
       "Thomas High School     Charter\n",
       "Name: type, Length: 39170, dtype: object"
      ]
     },
     "execution_count": 16,
     "metadata": {},
     "output_type": "execute_result"
    }
   ],
   "source": [
    "#Make a variable for school types\n",
    "school_type = school_data_complete.set_index([\"school_name\"])[\"type\"]\n",
    "\n",
    "school_type"
   ]
  },
  {
   "cell_type": "code",
   "execution_count": 17,
   "id": "0e7a6f2e-b627-4065-b861-1c101511302d",
   "metadata": {},
   "outputs": [
    {
     "data": {
      "text/plain": [
       "Bailey High School       4976\n",
       "Johnson High School      4761\n",
       "Hernandez High School    4635\n",
       "Rodriguez High School    3999\n",
       "Figueroa High School     2949\n",
       "Huang High School        2917\n",
       "Ford High School         2739\n",
       "Wilson High School       2283\n",
       "Cabrera High School      1858\n",
       "Wright High School       1800\n",
       "Shelton High School      1761\n",
       "Thomas High School       1635\n",
       "Griffin High School      1468\n",
       "Pena High School          962\n",
       "Holden High School        427\n",
       "Name: school_name, dtype: int64"
      ]
     },
     "execution_count": 17,
     "metadata": {},
     "output_type": "execute_result"
    }
   ],
   "source": [
    "# Calculate the total student count per school\n",
    "total_students_school = school_data_complete[\"school_name\"].value_counts()\n",
    "\n",
    "total_students_school"
   ]
  },
  {
   "cell_type": "code",
   "execution_count": 18,
   "id": "6c75914c-2de3-42d0-ac88-674a69dd41b8",
   "metadata": {},
   "outputs": [
    {
     "data": {
      "text/plain": [
       "Bailey High School       4976\n",
       "Johnson High School      4761\n",
       "Hernandez High School    4635\n",
       "Rodriguez High School    3999\n",
       "Figueroa High School     2949\n",
       "Huang High School        2917\n",
       "Ford High School         2739\n",
       "Wilson High School       2283\n",
       "Cabrera High School      1858\n",
       "Wright High School       1800\n",
       "Shelton High School      1761\n",
       "Thomas High School       1635\n",
       "Griffin High School      1468\n",
       "Pena High School          962\n",
       "Holden High School        427\n",
       "Name: school_name, dtype: int64"
      ]
     },
     "execution_count": 18,
     "metadata": {},
     "output_type": "execute_result"
    }
   ],
   "source": [
    "# Calculate the total school budget and per (student)capita spending per school\n",
    "total_budget_school = school_data_complete[\"school_name\"].value_counts()\n",
    "\n",
    "total_budget_school\n",
    "\n"
   ]
  },
  {
   "cell_type": "code",
   "execution_count": 19,
   "id": "36334fba-8e5a-40fa-a364-01fb363380ab",
   "metadata": {},
   "outputs": [
    {
     "data": {
      "text/plain": [
       "Bailey High School       1.0\n",
       "Johnson High School      1.0\n",
       "Hernandez High School    1.0\n",
       "Rodriguez High School    1.0\n",
       "Figueroa High School     1.0\n",
       "Huang High School        1.0\n",
       "Ford High School         1.0\n",
       "Wilson High School       1.0\n",
       "Cabrera High School      1.0\n",
       "Wright High School       1.0\n",
       "Shelton High School      1.0\n",
       "Thomas High School       1.0\n",
       "Griffin High School      1.0\n",
       "Pena High School         1.0\n",
       "Holden High School       1.0\n",
       "Name: school_name, dtype: float64"
      ]
     },
     "execution_count": 19,
     "metadata": {},
     "output_type": "execute_result"
    }
   ],
   "source": [
    "total_students_school = school_data_complete[\"school_name\"].value_counts()\n",
    "total_students_school\n",
    "\n",
    "total_budget_school = school_data_complete[\"school_name\"].value_counts()\n",
    "total_budget_school\n",
    "\n",
    "budget_per_student = total_budget_school/total_students_school\n",
    "budget_per_student"
   ]
  },
  {
   "cell_type": "code",
   "execution_count": 20,
   "id": "f03eb42b-b496-4954-a37c-a7e6ce07fe98",
   "metadata": {},
   "outputs": [
    {
     "name": "stderr",
     "output_type": "stream",
     "text": [
      "C:\\Users\\seste\\AppData\\Local\\Temp\\ipykernel_18740\\3686294085.py:1: FutureWarning: The default value of numeric_only in DataFrameGroupBy.mean is deprecated. In a future version, numeric_only will default to False. Either specify numeric_only or select only columns which should be valid for the function.\n",
      "  avg_math_school = school_data_complete.groupby(['school_name', 'type']).mean()['math_score']\n"
     ]
    },
    {
     "data": {
      "text/plain": [
       "school_name            type    \n",
       "Bailey High School     District    77.048432\n",
       "Cabrera High School    Charter     83.061895\n",
       "Figueroa High School   District    76.711767\n",
       "Ford High School       District    77.102592\n",
       "Griffin High School    Charter     83.351499\n",
       "Hernandez High School  District    77.289752\n",
       "Holden High School     Charter     83.803279\n",
       "Huang High School      District    76.629414\n",
       "Johnson High School    District    77.072464\n",
       "Pena High School       Charter     83.839917\n",
       "Rodriguez High School  District    76.842711\n",
       "Shelton High School    Charter     83.359455\n",
       "Thomas High School     Charter     83.418349\n",
       "Wilson High School     Charter     83.274201\n",
       "Wright High School     Charter     83.682222\n",
       "Name: math_score, dtype: float64"
      ]
     },
     "execution_count": 20,
     "metadata": {},
     "output_type": "execute_result"
    }
   ],
   "source": [
    "avg_math_school = school_data_complete.groupby(['school_name', 'type']).mean()['math_score']\n",
    "avg_math_school "
   ]
  },
  {
   "cell_type": "code",
   "execution_count": 21,
   "id": "d5b58267-282d-454b-a9b1-282d604ba2b1",
   "metadata": {},
   "outputs": [
    {
     "name": "stderr",
     "output_type": "stream",
     "text": [
      "C:\\Users\\seste\\AppData\\Local\\Temp\\ipykernel_18740\\255488207.py:1: FutureWarning: The default value of numeric_only in DataFrameGroupBy.mean is deprecated. In a future version, numeric_only will default to False. Either specify numeric_only or select only columns which should be valid for the function.\n",
      "  avg_read_school = school_data_complete.groupby(['school_name', 'type']).mean()['reading_score']\n"
     ]
    },
    {
     "data": {
      "text/plain": [
       "school_name            type    \n",
       "Bailey High School     District    81.033963\n",
       "Cabrera High School    Charter     83.975780\n",
       "Figueroa High School   District    81.158020\n",
       "Ford High School       District    80.746258\n",
       "Griffin High School    Charter     83.816757\n",
       "Hernandez High School  District    80.934412\n",
       "Holden High School     Charter     83.814988\n",
       "Huang High School      District    81.182722\n",
       "Johnson High School    District    80.966394\n",
       "Pena High School       Charter     84.044699\n",
       "Rodriguez High School  District    80.744686\n",
       "Shelton High School    Charter     83.725724\n",
       "Thomas High School     Charter     83.848930\n",
       "Wilson High School     Charter     83.989488\n",
       "Wright High School     Charter     83.955000\n",
       "Name: reading_score, dtype: float64"
      ]
     },
     "execution_count": 21,
     "metadata": {},
     "output_type": "execute_result"
    }
   ],
   "source": [
    "avg_read_school = school_data_complete.groupby(['school_name', 'type']).mean()['reading_score']\n",
    "avg_read_school"
   ]
  },
  {
   "cell_type": "code",
   "execution_count": 22,
   "id": "ae04c04b-4ec6-441f-b149-b4f2ec7f7e9d",
   "metadata": {},
   "outputs": [
    {
     "data": {
      "text/plain": [
       "Bailey High School        590.233119\n",
       "Johnson High School       616.887209\n",
       "Hernandez High School     633.656958\n",
       "Rodriguez High School     734.433608\n",
       "Figueroa High School      995.930824\n",
       "Huang High School        1006.856359\n",
       "Ford High School         1072.289157\n",
       "Wilson High School       1286.465177\n",
       "Cabrera High School      1580.731970\n",
       "Wright High School       1631.666667\n",
       "Shelton High School      1667.802385\n",
       "Thomas High School       1796.330275\n",
       "Griffin High School      2000.681199\n",
       "Pena High School         3053.014553\n",
       "Holden High School       6878.220141\n",
       "Name: school_name, dtype: float64"
      ]
     },
     "execution_count": 22,
     "metadata": {},
     "output_type": "execute_result"
    }
   ],
   "source": [
    "student_per_math = school_data_complete[school_data_complete['math_score'] >= 70].count()[\"Student ID\"]\n",
    "student_per_math\n",
    "school_per_math = (student_per_math/total_students_school)*100\n",
    "school_per_math"
   ]
  },
  {
   "cell_type": "code",
   "execution_count": 23,
   "id": "a10e33de-2377-4786-b691-d83e09cfaba8",
   "metadata": {},
   "outputs": [
    {
     "data": {
      "text/plain": [
       "Bailey High School        675.442122\n",
       "Johnson High School       705.944129\n",
       "Hernandez High School     725.134844\n",
       "Rodriguez High School     840.460115\n",
       "Figueroa High School     1139.708376\n",
       "Huang High School        1152.211176\n",
       "Ford High School         1227.090179\n",
       "Wilson High School       1472.185721\n",
       "Cabrera High School      1808.934338\n",
       "Wright High School       1867.222222\n",
       "Shelton High School      1908.574673\n",
       "Thomas High School       2055.657492\n",
       "Griffin High School      2289.509537\n",
       "Pena High School         3493.762994\n",
       "Holden High School       7871.194379\n",
       "Name: school_name, dtype: float64"
      ]
     },
     "execution_count": 23,
     "metadata": {},
     "output_type": "execute_result"
    }
   ],
   "source": [
    "student_per_read = school_data_complete[school_data_complete[\"reading_score\"] >= 70].count()[\"Student ID\"]\n",
    "student_per_read\n",
    "school_per_read = (student_per_read/total_students_school)*100\n",
    "school_per_read"
   ]
  },
  {
   "cell_type": "code",
   "execution_count": 24,
   "id": "3c985c7a-92b5-4325-a5f1-671b8f80c2da",
   "metadata": {},
   "outputs": [],
   "source": [
    "# Use the provided code to calculate the number of students per school that passed both math and reading with scores of 70 or higher\n",
    "students_passing_math_and_reading = school_data_complete[\n",
    "    (school_data_complete[\"reading_score\"] >= 70) & (school_data_complete[\"math_score\"] >= 70)\n",
    "]\n",
    "school_students_passing_math_and_reading = students_passing_math_and_reading.groupby([\"school_name\"]).size()"
   ]
  },
  {
   "cell_type": "code",
   "execution_count": 25,
   "id": "fc437053-aa7a-472e-a9ca-502bca1d7bb6",
   "metadata": {},
   "outputs": [],
   "source": [
    "# Use the provided code to calculate the passing rates\n",
    "school_per_math = student_per_math / total_students_school * 100\n",
    "school_per_read = student_per_read / total_students_school * 100\n",
    "overall_passing_rate = school_students_passing_math_and_reading / total_students_school * 100"
   ]
  },
  {
   "cell_type": "code",
   "execution_count": null,
   "id": "ccbd6b91-9520-479d-bd00-f801a2eb4304",
   "metadata": {},
   "outputs": [],
   "source": [
    "# Create a DataFrame called `school_summary_result` with columns for the calculations above.\n",
    "school_summary_result = pd.DataFrame({\n",
    "    \n",
    "        \"School Type\": school_type,\n",
    "        \"Total Students\": total_students_school,\n",
    "        \"Total School Budget\": total_budget_school,\n",
    "        \"Per Student Budget\": budget_per_student,\n",
    "        \"Average Math Score\": avg_math_school,\n",
    "        \"Average Reading Score\": avg_read_school,\n",
    "        \"% Passing Math\": school_per_math,\n",
    "        \"% Passing Reading\": school_per_read,\n",
    "        \"% Overall Passing\": overall_passing_rate,\n",
    "    \n",
    "})\n",
    "\n",
    "# Formatting\n",
    "school_summary_result[\"Total School Budget\"] = school_summary_result_[\"Total School Budget\"].map(\"${:,.2f}\".format)\n",
    "school_summary_result[\"Per Student Budget\"] = school_summary_result[\"Per Student Budget\"].map(\"${:,.2f}\".format)\n",
    "\n",
    "\n",
    "school_summary_result\n"
   ]
  },
  {
   "cell_type": "code",
   "execution_count": null,
   "id": "fdbb5121-2a4e-4c40-bf33-490df8767582",
   "metadata": {},
   "outputs": [],
   "source": [
    "#student_per_math = school_data_complete[school_data_complete[\"math_score\"] >= 70].groupby(['school_name', 'type']).count()\n",
    "#school_per_math = (student_per_math['math_score']/total_students_school)*100"
   ]
  },
  {
   "cell_type": "code",
   "execution_count": null,
   "id": "37249b7e-d275-4e58-9050-2a307fdbfe17",
   "metadata": {},
   "outputs": [],
   "source": [
    "#student_per_read = school_data_complete[school_data_complete[\"reading_score\"] >= 70].groupby(['school_name', 'type']).count()\n",
    "#school_per_read = (student_per_read['reading_score']/total_students_school)*100"
   ]
  },
  {
   "cell_type": "code",
   "execution_count": null,
   "id": "6f0e553e-475e-4550-a505-3dd970ce2083",
   "metadata": {},
   "outputs": [],
   "source": [
    "#overall_passing = student_data[(student_data[\"reading_score\"] >=70) & (student_data[\"math_score\"] >= 70)].count() [\"Student ID\"]\n",
    "\n",
    "#overall_passing\n",
    "#overall_passing_percent = (overall_passing/total_number_student)*100\n",
    "\n",
    "#overall_passing_percent\n",
    "#overall_school_pass = school_data_complete[(school_data_complete[\""
   ]
  },
  {
   "cell_type": "code",
   "execution_count": null,
   "id": "c0f69664-fc17-4b5d-bb0e-5b02f5b451d1",
   "metadata": {},
   "outputs": [],
   "source": [
    "#Ugh Im exhausted"
   ]
  },
  {
   "cell_type": "code",
   "execution_count": null,
   "id": "68212829-8025-4b6f-9b7a-30741ffe2c4b",
   "metadata": {},
   "outputs": [],
   "source": [
    "#Sort and display the top five schools in overall passing rate\n",
    "# using ascending = False will sort the values from highest to lowest\n",
    "Top_5_schools = school_summary_result.sort_values([\"percent Overall Passing Rate\"], ascending=False)\n",
    "Top_5_schools.head()"
   ]
  },
  {
   "cell_type": "code",
   "execution_count": null,
   "id": "769c8393-6bbb-42c6-adbb-2e23b38d33c3",
   "metadata": {},
   "outputs": [],
   "source": [
    "#Sort and display the five lowest performing schools in overall passing rate so same thing from earlier just reverse\n",
    "# using ascending = true will sort the values from lowest to highest\n",
    "#Low_5_schools = school_summary_result.sort_values([\"percent Overall Passing Rate\"], ascending=True)\n",
    "#Low_5_schools.head()"
   ]
  },
  {
   "cell_type": "code",
   "execution_count": null,
   "id": "61886e88-f64f-4faa-9a37-160dd7d720d7",
   "metadata": {},
   "outputs": [],
   "source": [
    "#Math Scores by Grade\n",
    "# Make calculations to create a dataframe that will list the average math score for each grade level.\n",
    "#so just get the mean of each grade level math score and make a list\n",
    "#math_graders = school_data_complete[[\"school_name\", \"grade\", \"math_score\"]]\n",
    "#math_9_graders = math_graders[(math_graders[\"grade\"] == \"9th\")].groupby([\"school_name\"]).mean()[\"math_score\"]\n",
    "#math_10_graders = math_graders[(math_graders[\"grade\"] == \"10th\")].groupby([\"school_name\"]).mean()[\"math_score\"]\n",
    "#math_11_graders = math_graders[(math_graders[\"grade\"] == \"11th\")].groupby([\"school_name\"]).mean()[\"math_score\"]\n",
    "#math_12_graders = math_graders[(math_graders[\"grade\"] == \"12th\")].groupby([\"school_name\"]).mean()[\"math_score\"]\n",
    "\n",
    "#math_by_grade = pd.DataFrame({\n",
    "#    \"9th Grade\":math_9_graders,\n",
    "#    \"10th Grade\":math_10_graders,\n",
    "#    \"11th Grade\":math_11_graders,\n",
    "#    \"12th Grade\":math_12_graders,\n",
    "#})\n",
    "\n",
    "#Display the dataframe\n",
    "#math_by_grade"
   ]
  },
  {
   "cell_type": "code",
   "execution_count": null,
   "id": "33770a91-e42b-440a-b8b8-390522f0c23b",
   "metadata": {},
   "outputs": [],
   "source": [
    "#Reading Scores by Grade\n",
    "#So same thing we did for math grades but now we are using the reading \n",
    "#read_graders = school_data_complete[[\"school_name\", \"grade\", \"reading_score\"]]\n",
    "#read_9_graders = read_graders[(read_graders[\"grade\"] == \"9th\")].groupby([\"school_name\"]).mean()[\"reading_score\"]\n",
    "#read_10_graders = read_graders[(read_graders[\"grade\"] == \"10th\")].groupby([\"school_name\"]).mean()[\"reading_score\"]\n",
    "#read_11_graders = read_graders[(read_graders[\"grade\"] == \"11th\")].groupby([\"school_name\"]).mean()[\"reading_score\"]\n",
    "#read_12_graders = read_graders[(read_graders[\"grade\"] == \"12th\")].groupby([\"school_name\"]).mean()[\"reading_score\"]\n",
    "\n",
    "#read_by_grade = pd.DataFrame({\n",
    "#    \"9th Grade\":read_9_graders,\n",
    "#    \"10th Grade\":read_10_graders,\n",
    "#    \"11th Grade\":read_11_graders,\n",
    "#    \"12th Grade\":read_12_graders,\n",
    "#})\n",
    "\n",
    "#Display the dataframe\n",
    "#read_by_grade"
   ]
  },
  {
   "cell_type": "code",
   "execution_count": null,
   "id": "900f3aec-28d6-48f7-9468-b774e208246a",
   "metadata": {},
   "outputs": [],
   "source": [
    "#Scores by Spending\n",
    "#Create a table that breaks down school performance based on average spending ranges(per student)\n",
    "#Create a dataframe that will have the spending summary\n",
    "#Table must include the following:\n",
    "#Avergae math score\n",
    "#Average reading score\n",
    "# Percent passing math\n",
    "# Percent passing reading\n",
    "# Percent overall passing"
   ]
  },
  {
   "cell_type": "code",
   "execution_count": null,
   "id": "925c788e-39e9-4b8f-b9fe-1d11b3c2e141",
   "metadata": {},
   "outputs": [],
   "source": [
    "# Establish the bins \n",
    "#spending_bins = [0, 585, 630, 645, 680]\n",
    "#labels = [\"<$585\", \"$585-630\", \"$630-645\", \"$645-680\"]"
   ]
  },
  {
   "cell_type": "code",
   "execution_count": null,
   "id": "2622e47a-279d-445f-86fc-46cb0e1ac233",
   "metadata": {},
   "outputs": [],
   "source": []
  }
 ],
 "metadata": {
  "kernelspec": {
   "display_name": "Python 3 (ipykernel)",
   "language": "python",
   "name": "python3"
  },
  "language_info": {
   "codemirror_mode": {
    "name": "ipython",
    "version": 3
   },
   "file_extension": ".py",
   "mimetype": "text/x-python",
   "name": "python",
   "nbconvert_exporter": "python",
   "pygments_lexer": "ipython3",
   "version": "3.10.9"
  }
 },
 "nbformat": 4,
 "nbformat_minor": 5
}
